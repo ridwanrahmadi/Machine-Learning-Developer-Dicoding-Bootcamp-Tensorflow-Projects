{
  "nbformat": 4,
  "nbformat_minor": 0,
  "metadata": {
    "colab": {
      "provenance": []
    },
    "kernelspec": {
      "name": "python3",
      "display_name": "Python 3"
    },
    "language_info": {
      "name": "python"
    },
    "accelerator": "GPU",
    "gpuClass": "standard"
  },
  "cells": [
    {
      "cell_type": "code",
      "source": [
        "! pip install simplemma"
      ],
      "metadata": {
        "colab": {
          "base_uri": "https://localhost:8080/"
        },
        "id": "-x-y9elOjQj-",
        "outputId": "69641595-09bd-4673-cea2-7d2f2e28f0bd"
      },
      "execution_count": null,
      "outputs": [
        {
          "output_type": "stream",
          "name": "stdout",
          "text": [
            "Looking in indexes: https://pypi.org/simple, https://us-python.pkg.dev/colab-wheels/public/simple/\n",
            "Collecting simplemma\n",
            "  Downloading simplemma-0.9.0-py3-none-any.whl (76.2 MB)\n",
            "\u001b[K     |████████████████████████████████| 76.2 MB 1.1 MB/s \n",
            "\u001b[?25hInstalling collected packages: simplemma\n",
            "Successfully installed simplemma-0.9.0\n"
          ]
        }
      ]
    },
    {
      "cell_type": "code",
      "source": [
        "import re\n",
        "import string\n",
        "import numpy as np\n",
        "import pandas as pd\n",
        "\n",
        "import nltk\n",
        "from nltk import word_tokenize\n",
        "from nltk.corpus import stopwords\n",
        "from nltk import word_tokenize\n",
        "import simplemma\n",
        "\n",
        "from sklearn.model_selection import train_test_split\n",
        "from tensorflow.keras.preprocessing.text import Tokenizer\n",
        "from tensorflow.keras.preprocessing.sequence import pad_sequences\n",
        "from tensorflow.keras.models import Sequential\n",
        "from tensorflow.keras.optimizers import Adam\n",
        "from tensorflow.keras.layers import Dense, Flatten, LSTM, Dropout, Activation, Embedding, Bidirectional"
      ],
      "metadata": {
        "id": "pssUAwslCMxr"
      },
      "execution_count": null,
      "outputs": []
    },
    {
      "cell_type": "code",
      "execution_count": null,
      "metadata": {
        "id": "WGWoJD2h_Gar"
      },
      "outputs": [],
      "source": [
        "from sklearn.datasets import fetch_openml\n",
        "dutch_news = fetch_openml(name='Dutch-News-Articles', version=1)"
      ]
    },
    {
      "cell_type": "code",
      "source": [
        "df = dutch_news['data']"
      ],
      "metadata": {
        "id": "tH4X6p83_LBH"
      },
      "execution_count": null,
      "outputs": []
    },
    {
      "cell_type": "code",
      "source": [
        "df['category'].value_counts()"
      ],
      "metadata": {
        "colab": {
          "base_uri": "https://localhost:8080/"
        },
        "id": "Jr6xwPvy9h-w",
        "outputId": "3e52dd0b-6196-4652-ecca-b670965971b0"
      },
      "execution_count": null,
      "outputs": [
        {
          "output_type": "execute_result",
          "data": {
            "text/plain": [
              "Buitenland          91194\n",
              "Binnenland          80451\n",
              "Politiek            21608\n",
              "Economie            19391\n",
              "Regionaal nieuws    16069\n",
              "Koningshuis          3051\n",
              "Opmerkelijk          2748\n",
              "Cultuur  Media       2335\n",
              "Tech                 1014\n",
              "Name: category, dtype: int64"
            ]
          },
          "metadata": {},
          "execution_count": 5
        }
      ]
    },
    {
      "cell_type": "code",
      "source": [
        "df_nieuws = pd.concat([df[df['category'] == 'Politiek'],\n",
        "                       df[df['category'] == 'Economie'],\n",
        "                       df[df['category'] == 'Regionaal nieuws']])\n",
        "df = df_nieuws\n",
        "df.sample(3)"
      ],
      "metadata": {
        "id": "Ji4bmK5h7p3G",
        "colab": {
          "base_uri": "https://localhost:8080/",
          "height": 240
        },
        "outputId": "ca2e9bb5-a8c1-4e74-8296-100e6973813f"
      },
      "execution_count": null,
      "outputs": [
        {
          "output_type": "execute_result",
          "data": {
            "text/plain": [
              "                   datetime  \\\n",
              "71723   2013-11-25 10:03:00   \n",
              "131724  2016-06-02 19:31:00   \n",
              "177892  2018-07-05 11:59:00   \n",
              "\n",
              "                                                    title  \\\n",
              "71723                          Omzet chemie opnieuw lager   \n",
              "131724  Oppositie verbijsterd over gasboringen bij Sch...   \n",
              "177892       Utrecht beveiligt vijf pleinen tegen terreur   \n",
              "\n",
              "                                                  content          category  \\\n",
              "71723   De positie van de Nederlandse chemie-industrie...          Economie   \n",
              "131724  Oppositiepartijen in de Tweede Kamer reageren ...          Politiek   \n",
              "177892  De gemeente Utrecht beveiligt vijf pleinen teg...  Regionaal nieuws   \n",
              "\n",
              "                                                      url  \n",
              "71723   https://nos.nl/artikel/579005-omzet-chemie-opn...  \n",
              "131724  https://nos.nl/artikel/2108799-oppositie-verbi...  \n",
              "177892  https://nos.nl/artikel/2239983-utrecht-beveili...  "
            ],
            "text/html": [
              "\n",
              "  <div id=\"df-dc8965bc-8da5-4fa1-a801-8aa32beb8c31\">\n",
              "    <div class=\"colab-df-container\">\n",
              "      <div>\n",
              "<style scoped>\n",
              "    .dataframe tbody tr th:only-of-type {\n",
              "        vertical-align: middle;\n",
              "    }\n",
              "\n",
              "    .dataframe tbody tr th {\n",
              "        vertical-align: top;\n",
              "    }\n",
              "\n",
              "    .dataframe thead th {\n",
              "        text-align: right;\n",
              "    }\n",
              "</style>\n",
              "<table border=\"1\" class=\"dataframe\">\n",
              "  <thead>\n",
              "    <tr style=\"text-align: right;\">\n",
              "      <th></th>\n",
              "      <th>datetime</th>\n",
              "      <th>title</th>\n",
              "      <th>content</th>\n",
              "      <th>category</th>\n",
              "      <th>url</th>\n",
              "    </tr>\n",
              "  </thead>\n",
              "  <tbody>\n",
              "    <tr>\n",
              "      <th>71723</th>\n",
              "      <td>2013-11-25 10:03:00</td>\n",
              "      <td>Omzet chemie opnieuw lager</td>\n",
              "      <td>De positie van de Nederlandse chemie-industrie...</td>\n",
              "      <td>Economie</td>\n",
              "      <td>https://nos.nl/artikel/579005-omzet-chemie-opn...</td>\n",
              "    </tr>\n",
              "    <tr>\n",
              "      <th>131724</th>\n",
              "      <td>2016-06-02 19:31:00</td>\n",
              "      <td>Oppositie verbijsterd over gasboringen bij Sch...</td>\n",
              "      <td>Oppositiepartijen in de Tweede Kamer reageren ...</td>\n",
              "      <td>Politiek</td>\n",
              "      <td>https://nos.nl/artikel/2108799-oppositie-verbi...</td>\n",
              "    </tr>\n",
              "    <tr>\n",
              "      <th>177892</th>\n",
              "      <td>2018-07-05 11:59:00</td>\n",
              "      <td>Utrecht beveiligt vijf pleinen tegen terreur</td>\n",
              "      <td>De gemeente Utrecht beveiligt vijf pleinen teg...</td>\n",
              "      <td>Regionaal nieuws</td>\n",
              "      <td>https://nos.nl/artikel/2239983-utrecht-beveili...</td>\n",
              "    </tr>\n",
              "  </tbody>\n",
              "</table>\n",
              "</div>\n",
              "      <button class=\"colab-df-convert\" onclick=\"convertToInteractive('df-dc8965bc-8da5-4fa1-a801-8aa32beb8c31')\"\n",
              "              title=\"Convert this dataframe to an interactive table.\"\n",
              "              style=\"display:none;\">\n",
              "        \n",
              "  <svg xmlns=\"http://www.w3.org/2000/svg\" height=\"24px\"viewBox=\"0 0 24 24\"\n",
              "       width=\"24px\">\n",
              "    <path d=\"M0 0h24v24H0V0z\" fill=\"none\"/>\n",
              "    <path d=\"M18.56 5.44l.94 2.06.94-2.06 2.06-.94-2.06-.94-.94-2.06-.94 2.06-2.06.94zm-11 1L8.5 8.5l.94-2.06 2.06-.94-2.06-.94L8.5 2.5l-.94 2.06-2.06.94zm10 10l.94 2.06.94-2.06 2.06-.94-2.06-.94-.94-2.06-.94 2.06-2.06.94z\"/><path d=\"M17.41 7.96l-1.37-1.37c-.4-.4-.92-.59-1.43-.59-.52 0-1.04.2-1.43.59L10.3 9.45l-7.72 7.72c-.78.78-.78 2.05 0 2.83L4 21.41c.39.39.9.59 1.41.59.51 0 1.02-.2 1.41-.59l7.78-7.78 2.81-2.81c.8-.78.8-2.07 0-2.86zM5.41 20L4 18.59l7.72-7.72 1.47 1.35L5.41 20z\"/>\n",
              "  </svg>\n",
              "      </button>\n",
              "      \n",
              "  <style>\n",
              "    .colab-df-container {\n",
              "      display:flex;\n",
              "      flex-wrap:wrap;\n",
              "      gap: 12px;\n",
              "    }\n",
              "\n",
              "    .colab-df-convert {\n",
              "      background-color: #E8F0FE;\n",
              "      border: none;\n",
              "      border-radius: 50%;\n",
              "      cursor: pointer;\n",
              "      display: none;\n",
              "      fill: #1967D2;\n",
              "      height: 32px;\n",
              "      padding: 0 0 0 0;\n",
              "      width: 32px;\n",
              "    }\n",
              "\n",
              "    .colab-df-convert:hover {\n",
              "      background-color: #E2EBFA;\n",
              "      box-shadow: 0px 1px 2px rgba(60, 64, 67, 0.3), 0px 1px 3px 1px rgba(60, 64, 67, 0.15);\n",
              "      fill: #174EA6;\n",
              "    }\n",
              "\n",
              "    [theme=dark] .colab-df-convert {\n",
              "      background-color: #3B4455;\n",
              "      fill: #D2E3FC;\n",
              "    }\n",
              "\n",
              "    [theme=dark] .colab-df-convert:hover {\n",
              "      background-color: #434B5C;\n",
              "      box-shadow: 0px 1px 3px 1px rgba(0, 0, 0, 0.15);\n",
              "      filter: drop-shadow(0px 1px 2px rgba(0, 0, 0, 0.3));\n",
              "      fill: #FFFFFF;\n",
              "    }\n",
              "  </style>\n",
              "\n",
              "      <script>\n",
              "        const buttonEl =\n",
              "          document.querySelector('#df-dc8965bc-8da5-4fa1-a801-8aa32beb8c31 button.colab-df-convert');\n",
              "        buttonEl.style.display =\n",
              "          google.colab.kernel.accessAllowed ? 'block' : 'none';\n",
              "\n",
              "        async function convertToInteractive(key) {\n",
              "          const element = document.querySelector('#df-dc8965bc-8da5-4fa1-a801-8aa32beb8c31');\n",
              "          const dataTable =\n",
              "            await google.colab.kernel.invokeFunction('convertToInteractive',\n",
              "                                                     [key], {});\n",
              "          if (!dataTable) return;\n",
              "\n",
              "          const docLinkHtml = 'Like what you see? Visit the ' +\n",
              "            '<a target=\"_blank\" href=https://colab.research.google.com/notebooks/data_table.ipynb>data table notebook</a>'\n",
              "            + ' to learn more about interactive tables.';\n",
              "          element.innerHTML = '';\n",
              "          dataTable['output_type'] = 'display_data';\n",
              "          await google.colab.output.renderOutput(dataTable, element);\n",
              "          const docLink = document.createElement('div');\n",
              "          docLink.innerHTML = docLinkHtml;\n",
              "          element.appendChild(docLink);\n",
              "        }\n",
              "      </script>\n",
              "    </div>\n",
              "  </div>\n",
              "  "
            ]
          },
          "metadata": {},
          "execution_count": 30
        }
      ]
    },
    {
      "cell_type": "code",
      "source": [
        "category_map = {'Politiek': 0, 'Economie': 1, 'Regionaal nieuws': 2}\n",
        "df['category'] = df['category'].map(category_map)"
      ],
      "metadata": {
        "id": "agpzBU9D-U9K"
      },
      "execution_count": null,
      "outputs": []
    },
    {
      "cell_type": "code",
      "source": [
        "df['category'].value_counts()"
      ],
      "metadata": {
        "colab": {
          "base_uri": "https://localhost:8080/"
        },
        "id": "wcV2WhKY-gT4",
        "outputId": "94a4628f-aa7b-4555-bef8-87ed08529402"
      },
      "execution_count": null,
      "outputs": [
        {
          "output_type": "execute_result",
          "data": {
            "text/plain": [
              "0    21608\n",
              "1    19391\n",
              "2    16069\n",
              "Name: category, dtype: int64"
            ]
          },
          "metadata": {},
          "execution_count": 8
        }
      ]
    },
    {
      "cell_type": "code",
      "source": [
        "nltk.download('punkt')\n",
        "nltk.download('stopwords')"
      ],
      "metadata": {
        "colab": {
          "base_uri": "https://localhost:8080/"
        },
        "id": "m5Lp-rDokcWZ",
        "outputId": "be7271d1-9e76-4e14-8f24-e201b68084dc"
      },
      "execution_count": null,
      "outputs": [
        {
          "output_type": "stream",
          "name": "stderr",
          "text": [
            "[nltk_data] Downloading package punkt to /root/nltk_data...\n",
            "[nltk_data]   Unzipping tokenizers/punkt.zip.\n",
            "[nltk_data] Downloading package stopwords to /root/nltk_data...\n",
            "[nltk_data]   Unzipping corpora/stopwords.zip.\n"
          ]
        },
        {
          "output_type": "execute_result",
          "data": {
            "text/plain": [
              "True"
            ]
          },
          "metadata": {},
          "execution_count": 10
        }
      ]
    },
    {
      "cell_type": "code",
      "source": [
        "def text_preprocessing(t):\n",
        "    numbers_removed = re.sub(pattern=r'\\d+', repl=\" \", string=t.lower())\n",
        "    punctuations_removed = numbers_removed.translate(str.maketrans('', '', string.punctuation))\n",
        "    text = []\n",
        "    stop_words = list(stopwords.words('dutch'))\n",
        "    tokens = word_tokenize(punctuations_removed)\n",
        "    for i in range(len(tokens)):\n",
        "        lemma_word = simplemma.lemmatize(tokens[i], lang='nl')\n",
        "        tokens[i] = lemma_word\n",
        "        if tokens[i] not in stop_words:\n",
        "            text.append(tokens[i])\n",
        "    whitespace_removed = re.sub(pattern=r'\\s+[a-zA-Z]\\s+', repl=\" \", string=\" \".join(text))\n",
        "    return whitespace_removed"
      ],
      "metadata": {
        "id": "Z5mZGgeV0y6X"
      },
      "execution_count": null,
      "outputs": []
    },
    {
      "cell_type": "code",
      "source": [
        "df['content'] = df['content'].apply(lambda x: text_preprocessing(x))"
      ],
      "metadata": {
        "id": "ZFbfGyyA1Mrw"
      },
      "execution_count": null,
      "outputs": []
    },
    {
      "cell_type": "code",
      "source": [
        "news_train, news_test, topic_train, topic_test = train_test_split(df['content'], df['category'], test_size=0.2, random_state=42, shuffle=True, stratify=df['category'])"
      ],
      "metadata": {
        "id": "-SgI98B82rEh"
      },
      "execution_count": null,
      "outputs": []
    },
    {
      "cell_type": "code",
      "source": [
        "tokenizer = Tokenizer(num_words = 5000, oov_token='<OOV>')\n",
        "tokenizer.fit_on_texts(news_train)\n",
        "\n",
        "train_padded = pad_sequences(tokenizer.texts_to_sequences(news_train), \n",
        "                             maxlen=200, padding='post', truncating='post')\n",
        "validation_padded = pad_sequences(tokenizer.texts_to_sequences(news_test), \n",
        "                                  maxlen=200, padding='post', truncating='post')"
      ],
      "metadata": {
        "id": "v5RkgBvW34W-"
      },
      "execution_count": null,
      "outputs": []
    },
    {
      "cell_type": "code",
      "source": [
        "print(list(tokenizer.word_index)[:100])"
      ],
      "metadata": {
        "colab": {
          "base_uri": "https://localhost:8080/"
        },
        "id": "4tZ5CObskD2P",
        "outputId": "0ac7ace6-3fac-4a9d-f487-1481dcd976fd"
      },
      "execution_count": null,
      "outputs": [
        {
          "output_type": "stream",
          "name": "stdout",
          "text": [
            "['<OOV>', 'zeggen', 'gaan', 'jaar', 'moeten', 'komen', 'volgens', 'zullen', 'willen', 'twee', 'we', 'mens', 'maken', 'procent', 'euro', 'groot', 'wel', 'vinden', 'bedrijf', 'krijgen', 'goed', 'nederland', 'nieuw', 'ander', 'minister', 'kamer', 'partij', 'zien', 'kabinet', 'gelden', 'miljoen', 'laten', 'week', 'nemen', 'vorig', 'bank', 'staat', 'blijven', 'onderzoeken', 'nederlands', 'weer', 'heel', 'politie', 'één', 'houden', 'man', 'minder', 'miljard', 'ver', 'land', 'tijd', 'eerder', 'waar', 'geven', 'maand', 'aantal', 'zaak', 'alleen', 'mogen', 'gemeente', 'zonnen', 'afgelopen', 'schrijven', 'lang', 'rutte', 'mogelijk', 'staan', 'weet', 'melden', 'europees', 'betalen', 'vandaag', 'tussen', 'per', 'vraag', 'vooral', 'drie', 'dag', 'werken', 'vvd', 'af', 'steeds', 'noemen', 'probleem', 'uur', 'liggen', 'mee', 'pvda', 'spreken', 'zoals', 'omroep', 'deel', 'snel', 'verkopen', 'bijvoorbeeld', 'bekennen', 'politiek', 'ruim', 'eigen', 'sinds']\n"
          ]
        }
      ]
    },
    {
      "cell_type": "code",
      "source": [
        "model = Sequential([Embedding(5000, 64), \n",
        "                    Dropout(0.5), \n",
        "                    Bidirectional(LSTM(64)),\n",
        "                    Dense(4, activation='softmax')])\n",
        "model.compile(loss='sparse_categorical_crossentropy', optimizer=Adam(learning_rate=0.001, decay=1e-6), metrics=['accuracy'])\n",
        "model.fit(train_padded, topic_train, epochs=2, validation_data=(validation_padded, topic_test), verbose=1)"
      ],
      "metadata": {
        "colab": {
          "base_uri": "https://localhost:8080/"
        },
        "id": "XO_ZY7BI4us0",
        "outputId": "592a93b9-60b1-434e-9cbf-26c3e7a3767a"
      },
      "execution_count": null,
      "outputs": [
        {
          "output_type": "stream",
          "name": "stdout",
          "text": [
            "Epoch 1/2\n",
            "1427/1427 [==============================] - 35s 19ms/step - loss: 0.2674 - accuracy: 0.8993 - val_loss: 0.1806 - val_accuracy: 0.9367\n",
            "Epoch 2/2\n",
            "1427/1427 [==============================] - 27s 19ms/step - loss: 0.1198 - accuracy: 0.9630 - val_loss: 0.1304 - val_accuracy: 0.9568\n"
          ]
        },
        {
          "output_type": "execute_result",
          "data": {
            "text/plain": [
              "<keras.callbacks.History at 0x7f219d5a0970>"
            ]
          },
          "metadata": {},
          "execution_count": 15
        }
      ]
    }
  ]
}